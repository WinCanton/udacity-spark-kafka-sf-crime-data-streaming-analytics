{
 "cells": [
  {
   "cell_type": "code",
   "execution_count": 1,
   "metadata": {
    "editable": true
   },
   "outputs": [],
   "source": [
    "from pyspark.sql import SparkSession"
   ]
  },
  {
   "cell_type": "code",
   "execution_count": 2,
   "metadata": {
    "editable": true
   },
   "outputs": [],
   "source": [
    "spark = SparkSession.builder.appName(\"SF_Crime\").getOrCreate()"
   ]
  },
  {
   "cell_type": "code",
   "execution_count": 3,
   "metadata": {
    "editable": true
   },
   "outputs": [],
   "source": [
    "file_path = \"./police-department-calls-for-service.json\"\n",
    "df = spark.read.option(\"multiLine\", True).json(file_path)"
   ]
  },
  {
   "cell_type": "code",
   "execution_count": 4,
   "metadata": {
    "editable": true
   },
   "outputs": [
    {
     "name": "stdout",
     "output_type": "stream",
     "text": [
      "root\n",
      " |-- address: string (nullable = true)\n",
      " |-- address_type: string (nullable = true)\n",
      " |-- agency_id: string (nullable = true)\n",
      " |-- call_date: string (nullable = true)\n",
      " |-- call_date_time: string (nullable = true)\n",
      " |-- call_time: string (nullable = true)\n",
      " |-- city: string (nullable = true)\n",
      " |-- common_location: string (nullable = true)\n",
      " |-- crime_id: string (nullable = true)\n",
      " |-- disposition: string (nullable = true)\n",
      " |-- offense_date: string (nullable = true)\n",
      " |-- original_crime_type_name: string (nullable = true)\n",
      " |-- report_date: string (nullable = true)\n",
      " |-- state: string (nullable = true)\n",
      "\n"
     ]
    }
   ],
   "source": [
    "df.printSchema()"
   ]
  },
  {
   "cell_type": "code",
   "execution_count": 5,
   "metadata": {
    "editable": true
   },
   "outputs": [
    {
     "data": {
      "text/plain": [
       "199999"
      ]
     },
     "execution_count": 5,
     "metadata": {},
     "output_type": "execute_result"
    }
   ],
   "source": [
    "df.count()"
   ]
  },
  {
   "cell_type": "code",
   "execution_count": 6,
   "metadata": {
    "editable": true
   },
   "outputs": [
    {
     "name": "stdout",
     "output_type": "stream",
     "text": [
      "+--------------------+------------+---------+--------------------+--------------------+---------+-------------+---------------+---------+-----------+--------------------+------------------------+--------------------+-----+\n",
      "|             address|address_type|agency_id|           call_date|      call_date_time|call_time|         city|common_location| crime_id|disposition|        offense_date|original_crime_type_name|         report_date|state|\n",
      "+--------------------+------------+---------+--------------------+--------------------+---------+-------------+---------------+---------+-----------+--------------------+------------------------+--------------------+-----+\n",
      "|Geary Bl/divisade...|Intersection|        1|2018-12-31T00:00:...|2018-12-31T23:57:...|    23:57|San Francisco|               |183653763|        ADM|2018-12-31T00:00:...|            Traffic Stop|2018-12-31T00:00:...|   CA|\n",
      "+--------------------+------------+---------+--------------------+--------------------+---------+-------------+---------------+---------+-----------+--------------------+------------------------+--------------------+-----+\n",
      "only showing top 1 row\n",
      "\n"
     ]
    }
   ],
   "source": [
    "df.show(1)"
   ]
  },
  {
   "cell_type": "code",
   "execution_count": 7,
   "metadata": {
    "editable": true
   },
   "outputs": [
    {
     "name": "stdout",
     "output_type": "stream",
     "text": [
      "+--------------------+---------+------------+------------------------+\n",
      "|           call_date|call_time| disposition|original_crime_type_name|\n",
      "+--------------------+---------+------------+------------------------+\n",
      "|2018-12-31T00:00:...|    23:57|         ADM|            Traffic Stop|\n",
      "|2018-12-31T00:00:...|    23:54|         CIT|     Traf Violation Cite|\n",
      "|2018-12-31T00:00:...|    23:49|         HAN|            Passing Call|\n",
      "|2018-12-31T00:00:...|    23:47|         PAS|           Audible Alarm|\n",
      "|2018-12-31T00:00:...|    23:46|         CIT|            Traffic Stop|\n",
      "|2018-12-31T00:00:...|    23:38|          ND|            Passing Call|\n",
      "|2018-12-31T00:00:...|    23:38|         CIT|            Traffic Stop|\n",
      "|2018-12-31T00:00:...|    23:36|         HAN|            Traffic Stop|\n",
      "|2018-12-31T00:00:...|    23:34|Not recorded|            Passing Call|\n",
      "|2018-12-31T00:00:...|    23:33|         GOA|         Fight No Weapon|\n",
      "|2018-12-31T00:00:...|    23:33|         HAN|            Traffic Stop|\n",
      "|2018-12-31T00:00:...|    23:33|         HAN|            Passing Call|\n",
      "|2018-12-31T00:00:...|    23:33|         HAN|            Passing Call|\n",
      "|2018-12-31T00:00:...|    23:30|         CIT|            Traffic Stop|\n",
      "|2018-12-31T00:00:...|    23:30|         REP|                     Att|\n",
      "|2018-12-31T00:00:...|    23:29|         REP|      Auto Boost / Strip|\n",
      "|2018-12-31T00:00:...|    23:29|         HAN|            Passing Call|\n",
      "|2018-12-31T00:00:...|    23:28|         ADV|            Traffic Stop|\n",
      "|2018-12-31T00:00:...|    23:25|         HAN|            Passing Call|\n",
      "|2018-12-31T00:00:...|    23:24|         ADV|      Suspicious Vehicle|\n",
      "+--------------------+---------+------------+------------------------+\n",
      "only showing top 20 rows\n",
      "\n"
     ]
    }
   ],
   "source": [
    "df.select(\"call_date\", \"call_time\", \"disposition\", \"original_crime_type_name\").show()"
   ]
  },
  {
   "cell_type": "code",
   "execution_count": 14,
   "metadata": {
    "editable": true
   },
   "outputs": [
    {
     "name": "stdout",
     "output_type": "stream",
     "text": [
      "+------------------------+-----+\n",
      "|original_crime_type_name|count|\n",
      "+------------------------+-----+\n",
      "|            Passing Call|35180|\n",
      "|            Traffic Stop|13538|\n",
      "|     Traf Violation Cite|10921|\n",
      "|       Suspicious Person|10007|\n",
      "|      Homeless Complaint| 6072|\n",
      "|              Trespasser| 5840|\n",
      "|           Audible Alarm| 5775|\n",
      "|                  22500e| 5651|\n",
      "|        Well Being Check| 5552|\n",
      "|         Muni Inspection| 5509|\n",
      "|      Suspicious Vehicle| 5031|\n",
      "|         Fight No Weapon| 4199|\n",
      "|          Noise Nuisance| 4072|\n",
      "|      Auto Boost / Strip| 2969|\n",
      "|      Traf Violation Tow| 2915|\n",
      "|                    Poss| 2851|\n",
      "|      Mentally Disturbed| 2585|\n",
      "|             Petty Theft| 2549|\n",
      "|          Meet W/citizen| 2414|\n",
      "|       Assault / Battery| 2356|\n",
      "+------------------------+-----+\n",
      "only showing top 20 rows\n",
      "\n"
     ]
    }
   ],
   "source": [
    "df.select(\"original_crime_type_name\").groupBy(df.original_crime_type_name).count().orderBy('count', ascending=False).show()"
   ]
  },
  {
   "cell_type": "code",
   "execution_count": 17,
   "metadata": {
    "editable": true
   },
   "outputs": [],
   "source": [
    "file2 = \"./radio_code.json\"\n",
    "df_code = spark.read.json(file2, multiLine=True)"
   ]
  },
  {
   "cell_type": "code",
   "execution_count": 18,
   "metadata": {
    "editable": true
   },
   "outputs": [
    {
     "name": "stdout",
     "output_type": "stream",
     "text": [
      "root\n",
      " |-- description: string (nullable = true)\n",
      " |-- disposition_code: string (nullable = true)\n",
      "\n"
     ]
    }
   ],
   "source": [
    "df_code.printSchema()"
   ]
  },
  {
   "cell_type": "code",
   "execution_count": 19,
   "metadata": {
    "editable": true
   },
   "outputs": [
    {
     "name": "stdout",
     "output_type": "stream",
     "text": [
      "+-----------+----------------+\n",
      "|description|disposition_code|\n",
      "+-----------+----------------+\n",
      "|     Abated|             ABA|\n",
      "| Admonished|             ADM|\n",
      "|    Advised|             ADV|\n",
      "|     Arrest|             ARR|\n",
      "|     Cancel|             CAN|\n",
      "+-----------+----------------+\n",
      "only showing top 5 rows\n",
      "\n"
     ]
    }
   ],
   "source": [
    "df_code.show(5)"
   ]
  },
  {
   "cell_type": "code",
   "execution_count": 27,
   "metadata": {
    "editable": true
   },
   "outputs": [
    {
     "name": "stdout",
     "output_type": "stream",
     "text": [
      "+--------------------+---------------+---------+--------------------+--------------------+---------+-------------+---------------+---------+-----------+--------------------+------------------------+--------------------+-----+-----------+----------------+\n",
      "|             address|   address_type|agency_id|           call_date|      call_date_time|call_time|         city|common_location| crime_id|disposition|        offense_date|original_crime_type_name|         report_date|state|description|disposition_code|\n",
      "+--------------------+---------------+---------+--------------------+--------------------+---------+-------------+---------------+---------+-----------+--------------------+------------------------+--------------------+-----+-----------+----------------+\n",
      "|500 Block Of Jack...|Premise Address|        1|2018-12-31T00:00:...|2018-12-31T23:21:...|    23:21|San Francisco|               |183653664|        ABA|2018-12-31T00:00:...|       Assault / Battery|2018-12-31T00:00:...|   CA|     Abated|             ABA|\n",
      "| 200 Block Of Rey St|Premise Address|        1|2018-12-31T00:00:...|2018-12-31T20:06:...|    20:06|San Francisco|               |183653085|        ABA|2018-12-31T00:00:...|      Fight No Weapon Dv|2018-12-31T00:00:...|   CA|     Abated|             ABA|\n",
      "|800 Block Of Ells...|Premise Address|        1|2018-12-31T00:00:...|2018-12-31T17:39:...|    17:39|San Francisco|               |183652583|        ABA|2018-12-31T00:00:...|                     459|2018-12-31T00:00:...|   CA|     Abated|             ABA|\n",
      "|3700 Block Of 16t...|Premise Address|        1|2018-12-31T00:00:...|2018-12-31T16:12:...|    16:12|San Francisco|               |183652219|        ABA|2018-12-31T00:00:...|         Fight No Weapon|2018-12-31T00:00:...|   CA|     Abated|             ABA|\n",
      "|3900 Block Of 18t...|Premise Address|        1|2018-12-31T00:00:...|2018-12-31T15:22:...|    15:22|San Francisco|               |183652040|        ABA|2018-12-31T00:00:...|      Mentally Disturbed|2018-12-31T00:00:...|   CA|     Abated|             ABA|\n",
      "+--------------------+---------------+---------+--------------------+--------------------+---------+-------------+---------------+---------+-----------+--------------------+------------------------+--------------------+-----+-----------+----------------+\n",
      "only showing top 5 rows\n",
      "\n"
     ]
    }
   ],
   "source": [
    "df.join(df_code, df.disposition==df_code.disposition_code, how='right').show(5)"
   ]
  },
  {
   "cell_type": "code",
   "execution_count": null,
   "metadata": {
    "editable": true
   },
   "outputs": [],
   "source": []
  }
 ],
 "metadata": {
  "kernelspec": {
   "display_name": "Python 3",
   "language": "python",
   "name": "python3"
  },
  "language_info": {
   "codemirror_mode": {
    "name": "ipython",
    "version": 3
   },
   "file_extension": ".py",
   "mimetype": "text/x-python",
   "name": "python",
   "nbconvert_exporter": "python",
   "pygments_lexer": "ipython3",
   "version": "3.7.3"
  }
 },
 "nbformat": 4,
 "nbformat_minor": 4
}
